{
 "cells": [
  {
   "cell_type": "raw",
   "id": "7939fe00",
   "metadata": {},
   "source": [
    "Iris dataset: https://en.wikipedia.org/wiki/Iris_flower_data_set  (Fisher's Iris dataset)\n",
    "\n",
    "Problem: Classify the flower into 3 classes (aka. dependent-variable, output variable, class-label) of species - setosa, virginica, versicolor\n",
    "Objective: Classification\n",
    "\n",
    "Classes (aka. variables): Sepal length,  Sepal width, Petal length, Petal width\n",
    "# of features (aka. observations, data-points, vector): 150\n",
    "\n",
    "In the real-world, you'd reference a biologist or relevant SME on approriate classes.\n",
    "--------------------------------------------------------------\n",
    "vector = n-dimensional numerical array. In this case we have 4 dimensions (4 columns from which we will base our prediction or species)\n",
    "    scalar = 1-D vector\n",
    "-------------------------------------------------------------\n",
    "\n",
    "Acknowledgments: https://www.springboard.com/workshops/ai-machine-learning-career-track/learn#/curriculum/17771"
   ]
  },
  {
   "cell_type": "code",
   "execution_count": 2,
   "id": "bbc24ff8",
   "metadata": {},
   "outputs": [],
   "source": [
    "import pandas as pd\n",
    "import seaborn as sns\n",
    "import matplotlib.pyplot as plt\n",
    "import numpy as np"
   ]
  },
  {
   "cell_type": "code",
   "execution_count": 3,
   "id": "d95cd73c",
   "metadata": {},
   "outputs": [],
   "source": [
    "# Download iris.data from https://archive.ics.uci.edu/ml/machine-learning-databases/iris/\n",
    "# add headers\n",
    "# save as iris_data.csv\n",
    "IRIS = pd.read_csv(r'C:\\Users\\maggi\\02UnitExercises\\02_unit52\\EDA-iris-dataset\\data\\iris_data.csv')"
   ]
  },
  {
   "cell_type": "code",
   "execution_count": 7,
   "id": "56a85da8",
   "metadata": {},
   "outputs": [
    {
     "name": "stdout",
     "output_type": "stream",
     "text": [
      "     septal_length  septal_width  petal_length  petal_width         species\n",
      "0              5.1           3.5           1.4          0.2     Iris-setosa\n",
      "1              4.9           3.0           1.4          0.2     Iris-setosa\n",
      "2              4.7           3.2           1.3          0.2     Iris-setosa\n",
      "3              4.6           3.1           1.5          0.2     Iris-setosa\n",
      "4              5.0           3.6           1.4          0.2     Iris-setosa\n",
      "..             ...           ...           ...          ...             ...\n",
      "145            6.7           3.0           5.2          2.3  Iris-virginica\n",
      "146            6.3           2.5           5.0          1.9  Iris-virginica\n",
      "147            6.5           3.0           5.2          2.0  Iris-virginica\n",
      "148            6.2           3.4           5.4          2.3  Iris-virginica\n",
      "149            5.9           3.0           5.1          1.8  Iris-virginica\n",
      "\n",
      "[150 rows x 5 columns]\n",
      "Shape: (150, 5)\n",
      "Columns: Index(['septal_length', 'septal_width', 'petal_length', 'petal_width',\n",
      "       'species'],\n",
      "      dtype='object')\n"
     ]
    }
   ],
   "source": [
    "# check it out\n",
    "print(IRIS)\n",
    "print(f'Shape: {IRIS.shape}')\n",
    "print(f'Columns: {IRIS.columns}')"
   ]
  },
  {
   "cell_type": "code",
   "execution_count": 10,
   "id": "f5c87f2c",
   "metadata": {},
   "outputs": [
    {
     "name": "stdout",
     "output_type": "stream",
     "text": [
      "Iris-setosa        50\n",
      "Iris-versicolor    50\n",
      "Iris-virginica     50\n",
      "Name: species, dtype: int64\n"
     ]
    }
   ],
   "source": [
    "# Q: How many data points for each class are present?\n",
    "print(IRIS['species'].value_counts())"
   ]
  },
  {
   "cell_type": "code",
   "execution_count": 12,
   "id": "7c1b5dfa",
   "metadata": {},
   "outputs": [
    {
     "data": {
      "image/png": "[encoded data removed]",
      "text/plain": [
       "<Figure size 432x288 with 1 Axes>"
      ]
     },
     "metadata": {
      "needs_background": "light"
     },
     "output_type": "display_data"
    }
   ],
   "source": [
    "# This is a balanced dataset (because each class has 50 data points). The opposite of this is imbalanced dataset.\n",
    "# Let's make a scatter plot\n",
    "# 1st - identify your axis, labels, and scales\n",
    "    # x-axis = septal_length\n",
    "    # y-axis = septal_width\n",
    "    \n",
    "IRIS.plot(kind='scatter', x='septal_length', y='septal_width')  # make the plot\n",
    "plt.show()  # show the plot"
   ]
  },
  {
   "cell_type": "code",
   "execution_count": 15,
   "id": "a49b1368",
   "metadata": {},
   "outputs": [
    {
     "data": {
      "image/png": "[encoded data removed]",
      "text/plain": [
       "<Figure size 383.875x288 with 1 Axes>"
      ]
     },
     "metadata": {},
     "output_type": "display_data"
    }
   ],
   "source": [
    "# Important to know!! The corner is NOT (0,0). Pay attention to the scale.\n",
    "\n",
    "# Let's try a 2-D scatter plot with each class color-coded.\n",
    "sns.set_style('whitegrid') # gives us blank plot\n",
    "sns.FacetGrid(IRIS, hue='species', height=4).map(plt.scatter, 'septal_length', 'septal_width').add_legend()\n",
    "plt.show()"
   ]
  },
  {
   "cell_type": "code",
   "execution_count": null,
   "id": "9c0191fc",
   "metadata": {},
   "outputs": [],
   "source": [
    "# Let's look at the plot and record what we see...\n",
    "# Blue points are largely separated from the yellow and green points (We can draw a clear line between blue points \n",
    "# and all others; These are linearly seperable)\n",
    "# Hence, we can distiguish setosa species from the others based on spetal length and width\n",
    "\n",
    "# So, what about versicolor versus virginica? \n",
    "# We'd need a 3-D scatter plot\n",
    "\n",
    "# to be continued...."
   ]
  }
 ],
 "metadata": {
  "kernelspec": {
   "display_name": "Python 3 (ipykernel)",
   "language": "python",
   "name": "python3"
  },
  "language_info": {
   "codemirror_mode": {
    "name": "ipython",
    "version": 3
   },
   "file_extension": ".py",
   "mimetype": "text/x-python",
   "name": "python",
   "nbconvert_exporter": "python",
   "pygments_lexer": "ipython3",
   "version": "3.8.11"
  }
 },
 "nbformat": 4,
 "nbformat_minor": 5
}
